{
 "cells": [
  {
   "cell_type": "markdown",
   "metadata": {},
   "source": [
    "Необходимо восстановить коэффициенты функции $f(x)#, зная её значения на некотором наборе точек.\n",
    "\n",
    "При этом известно, что\n",
    "\n",
    "$f(x)=((a+\\epsilon_a)*sin(x)+(b+\\epsilon _b)*ln(x))^2+(c+\\epsilon_c)*x^2$\n",
    "\n",
    "где $\\epsilon_i$ - случайные величины, которые принимают значения из отрезка $[–0.001,0.001]$; $a,b,c$ -  неизвестные положительные константы, которые требуется найти (абсолютная ошибка не должна превышать $10^(-2)$).\n",
    "\n",
    "**Формат ввода**\n",
    "\n",
    "В архиве находится файл `data.csv`, в каждой строке которого записаны два числа $x$ и $f(x)$, разделённые запятой.\n",
    "\n",
    "**Формат вывода**\n",
    "\n",
    "Выведите через пробел 3 вещественных числа с точностью 2 значащих цифры после десятичной точки, которые соответствуют набору $a,b,c$.\n",
    "\n"
   ]
  },
  {
   "cell_type": "markdown",
   "metadata": {},
   "source": [
    "## Решение\n",
    "\n",
    "Раскроем скобки, проигнорировав случайные величины:\n",
    "\n",
    "$f(x)=a^2*sin^2(x) + b^2*ln^2(x)+2*a*b*sin(x)*ln(x)+c*x^2$\n",
    "\n",
    "Теперь мы получили задачу многомерной линейной регрессии без свободного коэффициента. Признаками в этой задаче являются величины:\n",
    "- $sin^2(x)$\n",
    "- $ln^2(x)$\n",
    "- $sin(x)*ln(x)$\n",
    "- $x^2$\n",
    "\n",
    "Проведем замену:\n",
    "- $t_1 = a^2$\n",
    "- $t_2 = b^2$\n",
    "- $t_3 = 2*a*b$\n",
    "- $t_4 = c$\n",
    "\n",
    "Отсюда после применения линейной регрессии достаточно легко найти $a,b,c$."
   ]
  },
  {
   "cell_type": "code",
   "execution_count": null,
   "metadata": {},
   "outputs": [],
   "source": [
    "import pandas as pd\n",
    "import math\n",
    "import numpy as np\n",
    "from sklearn.linear_model import LinearRegression\n",
    "\n",
    "data = pd.read_csv('data.csv',header=None)\n",
    "data.columns = ['x','y']\n",
    "\n",
    "data['f1'] = np.sin(data.x)**2\n",
    "data['f2'] = np.log(data.x)**2\n",
    "data['f3'] = np.sin(data.x)*np.log(data.x)\n",
    "data['f4'] = data.x**2\n",
    "\n",
    "linearModel = LinearRegression()\n",
    "linearModel.fit(data[['f1','f2','f3','f4']], data.y)\n",
    "\n",
    "coeffs = linearModel.coef_\n",
    "\n",
    "a = math.sqrt(coeffs[0])\n",
    "b = math.sqrt(coeffs[1])\n",
    "c = coeffs[3]\n",
    "\n",
    "print(np.round(a,2), np.round(b,2), np.round(c,2))"
   ]
  }
 ],
 "metadata": {
  "language_info": {
   "name": "python"
  },
  "orig_nbformat": 4
 },
 "nbformat": 4,
 "nbformat_minor": 2
}
