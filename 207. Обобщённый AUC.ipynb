{
 "cells": [
  {
   "cell_type": "markdown",
   "metadata": {},
   "source": []
  },
  {
   "cell_type": "markdown",
   "metadata": {},
   "source": [
    "Классический ROC-AUC равен:\n",
    "\n",
    "$\\frac{1}{N_0*N_1}*\\sum_{i,j: t_i=1, t_j=0} ([y_i > y_j] + \\frac{1}{2}*[y_i=y_j])$\n",
    "\n",
    "где $t_i, t_j$ — правильные ответы (бинарные) для объектов $i$ и $j$, $N_0, N_1$  - количества 0 и 1 среди правильных ответов соответственно, а $y_i, y_j$ — предсказания модели для объектов $i$ и $j$. Рассмотрим обобщённый AUC, который определён не только для бинарных ответов:\n",
    "\n",
    "$\\frac{\\sum_{i,j: t_i > t_j} ([y_i > y_j] + \\frac{1}{2}*[y_i=y_j])}{|\\{i,j: t_i > t_j\\}|}$\n",
    "\n",
    "Даны массив правильных ответов и массив предсказаний модели.\n",
    "\n",
    "Необходимо посчитать обобщённый AUC.\n",
    "\n",
    "**Формат ввода**\n",
    "\n",
    "В первой строке указано одно число $N$ — число объектов в выборке $(2⩽N⩽100000)$. В каждой из следующих $N$ строк указаны два вещественных числа (с точностью не более 6 цифр после десятичной точки): правильный ответ примера $t_i$ и предсказание модели $y_i$ для этого примера.\n",
    "\n",
    "Гарантируется, что существуют два таких номера $i$ и $j$, что $t_i \\neq t_j$.\n",
    "\n",
    "**Формат вывода**\n",
    "\n",
    "Выведите одно число (значение обобщённого AUC) с точностью как минимум 6 значащих цифр после десятичной точки."
   ]
  },
  {
   "cell_type": "markdown",
   "metadata": {},
   "source": [
    "## Пример 1\n",
    "\n",
    "**Ввод**<br>\n",
    "2<br>\n",
    "0 0<br>\n",
    "1 1<br>\n",
    "**Вывод**<br>\n",
    "1.000000<br>\n",
    "\n",
    "## Пример 2\n",
    "\n",
    "**Ввод**<br>\n",
    "2<br>\n",
    "0 1<br>\n",
    "1 0<br>\n",
    "**Вывод**<br>\n",
    "0.000000<br>\n",
    "\n",
    "## Пример 3\n",
    "\n",
    "**Ввод**<br>\n",
    "3<br>\n",
    "0.5 0<br>\n",
    "0.5 1<br>\n",
    "2 0.5<br>\n",
    "**Вывод**<br>\n",
    "0.500000<br>\n",
    "\n",
    "## Пример 4\n",
    "\n",
    "**Ввод**<br>\n",
    "7<br>\n",
    "0 0<br>\n",
    "0 1<br>\n",
    "1 2<br>\n",
    "0 3<br>\n",
    "1 4<br>\n",
    "1 5<br>\n",
    "1 6<br>\n",
    "**Вывод**<br>\n",
    "0.916667<br>\n",
    "\n",
    "## Пример 5\n",
    "\n",
    "**Ввод**<br>\n",
    "10<br>\n",
    "0 4<br>\n",
    "3 0<br>\n",
    "1 2<br>\n",
    "2 4<br>\n",
    "1 0<br>\n",
    "2 1<br>\n",
    "4 1<br>\n",
    "2 1<br>\n",
    "4 4<br>\n",
    "0 0<br>\n",
    "**Вывод**<br>\n",
    "0.538462<br>\n",
    "\n",
    "## Пример 6\n",
    "\n",
    "**Ввод**<br>\n",
    "10<br>\n",
    "3 4<br>\n",
    "3 4<br>\n",
    "2 1<br>\n",
    "3 2<br>\n",
    "4 1<br>\n",
    "0 2<br>\n",
    "2 0<br>\n",
    "1 2<br>\n",
    "4 4<br>\n",
    "3 3<br>\n",
    "**Вывод**<br>\n",
    "0.648649<br>"
   ]
  },
  {
   "cell_type": "markdown",
   "metadata": {},
   "source": [
    "По сути самое просто решение, перебрать все пары точек и просто найти все случаи, когда $t_i > t_j$ и $y_i > y_j$, но тогда сложность алгоритма будет $O(N^2)$ и оно будет превышать лимит времени."
   ]
  },
  {
   "cell_type": "code",
   "execution_count": null,
   "metadata": {},
   "outputs": [],
   "source": [
    "# первое решение, которое перебирает все пары точек и ищет нужные пары\n",
    "# но решение не проходит по времени\n",
    "import numpy as np\n",
    "from itertools import combinations\n",
    "\n",
    "def generalized_roc_auc(data):\n",
    "    data = data[data[:, 0].argsort()][::-1]\n",
    "    combs = list(combinations(data,2))\n",
    "\n",
    "    s = 0\n",
    "    k = 0\n",
    "    for comb in combs:\n",
    "        if comb[0][0] > comb[1][0]:\n",
    "            s += (comb[0][1] > comb[1][1]) + 1/2 * (comb[0][1] == comb[1][1])\n",
    "            k += 1\n",
    "\n",
    "    return round(s/k, 6)\n",
    "\n",
    "n = int(input())\n",
    "train = []\n",
    "for i in range(n):\n",
    "    train.append(list(map(float, input().split())))\n",
    "\n",
    "train = np.array(train)\n",
    "print(generalized_roc_auc(train))"
   ]
  },
  {
   "cell_type": "code",
   "execution_count": null,
   "metadata": {},
   "outputs": [],
   "source": [
    "# второе решение немного модернизированное первое, оно не проходит по времени\n",
    "import numpy as np\n",
    "\n",
    "def numpy_comb(x):\n",
    "    idx = np.stack(np.triu_indices(len(x), k=1), axis=-1)\n",
    "    x = x[idx]\n",
    "    x = x[x[:, 0, 0] > x[:, 1, 0]]\n",
    "    return x\n",
    "\n",
    "n = int(input())\n",
    "train = [list(map(float, input().split())) for i in range(n)]\n",
    "\n",
    "data = np.array(train)\n",
    "data = data[data[:, 0].argsort()][::-1]\n",
    "combs = numpy_comb(data)\n",
    "\n",
    "result = (sum(combs[:, 0, 1] > combs[:, 1, 1]) + sum(1/2*(combs[:, 0, 1] == combs[:, 1, 1])))/len(combs)\n",
    "\n",
    "print(round(result,6))"
   ]
  },
  {
   "cell_type": "markdown",
   "metadata": {},
   "source": [
    "Более элегантное решение состоит в том, чтобы попробовать решить задачу геометрически:\n",
    "\n",
    "ось X - это $t_i$, ось Y - это $y_i$.\n",
    "\n",
    "Таким образом, двигаясь слева направо по оси X для фиксированного $X=t_i$ все точки слева будут удовлетворять условию $t_i>t_j$ и нам просто нужно рассчитать количество точек, которые также удовлетворяют условию $y_i>y_j$."
   ]
  },
  {
   "cell_type": "code",
   "execution_count": 1,
   "metadata": {},
   "outputs": [
    {
     "data": {
      "text/plain": [
       "<matplotlib.collections.PathCollection at 0x181a7fcebc0>"
      ]
     },
     "execution_count": 1,
     "metadata": {},
     "output_type": "execute_result"
    },
    {
     "data": {
      "image/png": "[encoded data removed]",
      "text/plain": [
       "<Figure size 640x480 with 1 Axes>"
      ]
     },
     "metadata": {},
     "output_type": "display_data"
    }
   ],
   "source": [
    "# рассмотрим пример\n",
    "import matplotlib.pyplot as plt\n",
    "n = 10\n",
    "t = [3,3,2,3,4,0,2,1,4,3]\n",
    "y = [4,4,1,2,1,2,0,2,4,3]\n",
    "\n",
    "y_sorted = sorted(y)\n",
    "\n",
    "plt.scatter(t, y_sorted)"
   ]
  },
  {
   "cell_type": "code",
   "execution_count": null,
   "metadata": {},
   "outputs": [],
   "source": [
    "# решение которое проходит\n",
    "from bisect import bisect_left, bisect_right\n",
    "\n",
    "n = int(input())\n",
    "t, y = zip(*sorted(tuple(map(float, input().split())) for i in range(n)))\n",
    "y_sorted = sorted(y)\n",
    "\n",
    "nom = denom = 0\n",
    "i = n - 1\n",
    "\n",
    "while i >= 0:\n",
    "    j = i\n",
    "    while j >= 0 and t[i] == t[j]:\n",
    "        l = bisect_left(y_sorted, y[j])\n",
    "        y_sorted.pop(l)\n",
    "        j -= 1\n",
    "\n",
    "    for k in range(j + 1, i + 1):\n",
    "        l = bisect_left(y_sorted, y[k])\n",
    "        r = bisect_right(y_sorted, y[k])\n",
    "        nom += l + (r - l) / 2\n",
    "        denom += j + 1\n",
    "\n",
    "    i = j\n",
    "\n",
    "print(nom / denom)"
   ]
  }
 ],
 "metadata": {
  "kernelspec": {
   "display_name": "base",
   "language": "python",
   "name": "python3"
  },
  "language_info": {
   "codemirror_mode": {
    "name": "ipython",
    "version": 3
   },
   "file_extension": ".py",
   "mimetype": "text/x-python",
   "name": "python",
   "nbconvert_exporter": "python",
   "pygments_lexer": "ipython3",
   "version": "3.10.9"
  },
  "orig_nbformat": 4
 },
 "nbformat": 4,
 "nbformat_minor": 2
}
